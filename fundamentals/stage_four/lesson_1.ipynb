{
 "cells": [
  {
   "cell_type": "markdown",
   "id": "985543d8",
   "metadata": {},
   "source": [
    "🔹 Stage 4: Object-Oriented Programming (OOP)\n",
    "\n",
    "🚀 Why OOP Matters\n",
    "\n",
    "- As your startup grows, your codebase becomes a system of systems.\n",
    "\n",
    "- OOP lets you model real-world entities (users, products, orders).\n",
    "\n",
    "- It helps you group data + behavior in one package (a class).\n",
    "\n",
    "- You’ll build scalable, maintainable code — like a well-run team with defined roles.\n",
    "\n",
    "- Think of it like turning your spaghetti code into Lego blocks that click together."
   ]
  },
  {
   "cell_type": "markdown",
   "id": "522a8514",
   "metadata": {},
   "source": [
    "🧱 Core Concepts\n",
    "\n",
    "🔸 1. Class & Object\n",
    "\n",
    "A class is a blueprint. An object is an instance of that blueprint.\n",
    "\n",
    "```python\n",
    "class Dog:\n",
    "    def bark(self):\n",
    "        print(\"Woof!\")\n",
    "\n",
    "fido = Dog()     # Create object\n",
    "fido.bark()      # Call method => Woof!\n",
    "\n",
    "```"
   ]
  },
  {
   "cell_type": "markdown",
   "id": "bab9f6d5",
   "metadata": {},
   "source": [
    "🔸 2. __init__ Method (Constructor)\n",
    "\n",
    "Runs automatically when an object is created.\n",
    "\n",
    "```python\n",
    "class Dog:\n",
    "    def __init__(self, name):\n",
    "        self.name = name\n",
    "\n",
    "    def bark(self):\n",
    "        print(f\"{self.name} says Woof!\")\n",
    "\n",
    "fido = Dog(\"Fido\")\n",
    "fido.bark()  # Fido says Woof!\n",
    "```"
   ]
  },
  {
   "cell_type": "markdown",
   "id": "c7f6246f",
   "metadata": {},
   "source": [
    "🔸 3. Attributes & Methods\n",
    "\n",
    "Attributes = object’s data (like self.name)\n",
    "\n",
    "Methods = functions inside a class"
   ]
  },
  {
   "cell_type": "markdown",
   "id": "85d6f87a",
   "metadata": {},
   "source": [
    "🔸 4. Inheritance\n",
    "\n",
    "Create a new class from an existing one (like cloning and customizing).\n",
    "\n",
    "```python\n",
    "class Animal:\n",
    "    def speak(self):\n",
    "        print(\"Some sound\")\n",
    "\n",
    "class Dog(Animal):\n",
    "    def speak(self):\n",
    "        print(\"Bark!\")\n",
    "\n",
    "Dog().speak()  # Bark!\n",
    "```"
   ]
  },
  {
   "cell_type": "markdown",
   "id": "137486d7",
   "metadata": {},
   "source": [
    "🔸 5. __str__ Method (String Representation)\n",
    "\n",
    "Controls how your object prints\n",
    "\n",
    "```python\n",
    "class Product:\n",
    "    def __init__(self, name, price): # will run for every object instance\n",
    "        self.name = name\n",
    "        self.price = price\n",
    "    def __str__(self): # will run when using print()\n",
    "        return f\"{self.name}: ${self.price}\"\n",
    "\n",
    "print(Product(\"Laptop\", 999))  # Laptop: $999\n",
    "\n",
    "```"
   ]
  },
  {
   "cell_type": "markdown",
   "id": "e6d3fdfa",
   "metadata": {},
   "source": [
    "🔹 Python super() — The TL;DR\n",
    "\n",
    "\n",
    "<code>super()</code> -  lets you call a method from the parent class."
   ]
  },
  {
   "cell_type": "markdown",
   "id": "726bfe24",
   "metadata": {},
   "source": [
    "🧱 Why You Use It:\n",
    "\n",
    "- Reuse parent setup (__init__)\n",
    "\n",
    "- Add or extend parent methods\n",
    "\n",
    "- Avoid repeating code"
   ]
  },
  {
   "cell_type": "markdown",
   "id": "3dbf7cec",
   "metadata": {},
   "source": [
    "🔧 Most Common Use (99% case):\n",
    "```python\n",
    "class Parent:\n",
    "    def __init__(self, name):\n",
    "        self.name = name\n",
    "\n",
    "class Child(Parent):\n",
    "    def __init__(self, name, age):\n",
    "        super().__init__(name)      # 👈 call Parent’s __init__\n",
    "        self.age = age\n",
    "```"
   ]
  },
  {
   "cell_type": "markdown",
   "id": "383d6463",
   "metadata": {},
   "source": [
    "🧪 Calling Other Methods:\n",
    "```python\n",
    "class Animal:\n",
    "    def speak(self):\n",
    "        print(\"Generic sound\")\n",
    "\n",
    "class Dog(Animal):\n",
    "    def speak(self):\n",
    "        super().speak()             # 👈 call parent method\n",
    "        print(\"Bark!\")\n",
    "```"
   ]
  }
 ],
 "metadata": {
  "language_info": {
   "name": "python"
  }
 },
 "nbformat": 4,
 "nbformat_minor": 5
}
