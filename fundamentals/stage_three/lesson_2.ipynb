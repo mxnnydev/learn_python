{
 "cells": [
  {
   "cell_type": "markdown",
   "id": "bc59f7d1",
   "metadata": {},
   "source": [
    "✅ Lesson 2: Reading Files Line-by-Line\n",
    "\n",
    "🧠 First Principles Mindset:\n",
    "When files get big (think: server logs, chat histories, CSVs), you don't want to load everything at once — that's where line-by-line reading shines."
   ]
  },
  {
   "cell_type": "markdown",
   "id": "ebabc3a3",
   "metadata": {},
   "source": [
    "🔍 Methods to Read Line-by-Line:\n",
    "1. readline() – Reads one line per call:\n",
    "\n",
    "```python\n",
    "with open(\"journal.txt\", \"r\") as file:\n",
    "    line1 = file.readline()\n",
    "    print(\"First line:\", line1.strip())\n",
    "```\n",
    "Use .strip() to remove the \\n."
   ]
  },
  {
   "cell_type": "markdown",
   "id": "99b2aeb0",
   "metadata": {},
   "source": [
    "2. readlines() – Reads all lines at once into a list:\n",
    "```python\n",
    "with open(\"journal.txt\", \"r\") as file:\n",
    "    lines = file.readlines()\n",
    "    for line in lines:\n",
    "        print(line.strip())\n",
    "```"
   ]
  },
  {
   "cell_type": "markdown",
   "id": "fe37f60e",
   "metadata": {},
   "source": [
    "3. for line in file: – Cleanest and most memory-friendly:\n",
    "```python\n",
    "with open(\"journal.txt\", \"r\") as file:\n",
    "    for line in file:\n",
    "        print(line.strip())\n",
    "```"
   ]
  },
  {
   "cell_type": "markdown",
   "id": "692d92b6",
   "metadata": {},
   "source": [
    "🧪 Mini-Challenge:\n",
    "\n",
    "Write a script that:\n",
    "\n",
    "- Opens journal.txt\n",
    "\n",
    "- Prints each line with a line number, like:"
   ]
  },
  {
   "cell_type": "code",
   "execution_count": 4,
   "id": "b7529831",
   "metadata": {},
   "outputs": [
    {
     "name": "stdout",
     "output_type": "stream",
     "text": [
      "1: Today I learned file handling.\n",
      "2: Tomorrow I'll build an app.\n"
     ]
    }
   ],
   "source": [
    "# Read and print each journal entry with line numbers\n",
    "with open(\"journal.txt\") as f:\n",
    "    for i, value in enumerate(f, 1):  # enumerate gives (line_number, line_content)\n",
    "        print(f\"{i}: {value.strip()}\")  # .strip() removes trailing newline for clean output"
   ]
  }
 ],
 "metadata": {
  "kernelspec": {
   "display_name": "Python 3",
   "language": "python",
   "name": "python3"
  },
  "language_info": {
   "codemirror_mode": {
    "name": "ipython",
    "version": 3
   },
   "file_extension": ".py",
   "mimetype": "text/x-python",
   "name": "python",
   "nbconvert_exporter": "python",
   "pygments_lexer": "ipython3",
   "version": "3.13.5"
  }
 },
 "nbformat": 4,
 "nbformat_minor": 5
}
