{
 "cells": [
  {
   "cell_type": "markdown",
   "id": "22493ae8",
   "metadata": {},
   "source": [
    "#### 🔹 Lesson 4: Dictionaries\n",
    "🎯 Goal: Learn how to use dictionaries to store, access, and manipulate key-value data — a must-have skill for real-world apps, APIs, and configs."
   ]
  },
  {
   "cell_type": "markdown",
   "id": "1413c67d",
   "metadata": {},
   "source": [
    "✅ What is a Dictionary?\n",
    "\n",
    "A dictionary stores data in key: value pairs.\n",
    "\n",
    "```python\n",
    "student = {\n",
    "    \"name\": \"Manny\",\n",
    "    \"age\": 22,\n",
    "    \"major\": \"Computer Science\"\n",
    "}\n",
    "````"
   ]
  },
  {
   "cell_type": "markdown",
   "id": "9e4b26a2",
   "metadata": {},
   "source": [
    "🔹 1. Accessing Values\n",
    "```python\n",
    "print(student[\"name\"])         # Manny\n",
    "print(student.get(\"age\"))      # 22\n",
    "print(student.get(\"GPA\", \"N/A\"))  # fallback default\n",
    "```"
   ]
  },
  {
   "cell_type": "markdown",
   "id": "188f73c6",
   "metadata": {},
   "source": [
    "🔹 2. Adding/Updating Data\n",
    "```python\n",
    "student[\"GPA\"] = 3.9\n",
    "student[\"age\"] = 23\n",
    "```\n"
   ]
  },
  {
   "cell_type": "markdown",
   "id": "74652c77",
   "metadata": {},
   "source": [
    "🔹 3. Looping Through a Dict\n",
    "\n",
    "```python\n",
    "for key in student:\n",
    "    print(key, \"→\", student[key])\n",
    "\n",
    "for key, value in student.items():\n",
    "    print(f\"{key}: {value}\")\n",
    "```"
   ]
  },
  {
   "cell_type": "markdown",
   "id": "2b667883",
   "metadata": {},
   "source": [
    "🔹 4. Useful Methods\n",
    "```python\n",
    "student.keys()     # all keys\n",
    "student.values()   # all values\n",
    "student.items()    # all key-value pairs\n",
    "student.pop(\"age\") # remove item\n",
    "```\n"
   ]
  },
  {
   "cell_type": "markdown",
   "id": "998c0e15",
   "metadata": {},
   "source": [
    "🔹 5. Nested Dictionaries\n",
    "```python\n",
    "contacts = {\n",
    "    \"john\": {\"phone\": \"1234\", \"email\": \"john@email.com\"},\n",
    "    \"emma\": {\"phone\": \"5678\", \"email\": \"emma@email.com\"}\n",
    "}\n",
    "\n",
    "print(contacts[\"emma\"][\"email\"])\n",
    "```"
   ]
  },
  {
   "cell_type": "markdown",
   "id": "388aa123",
   "metadata": {},
   "source": [
    "🧠 Practice Task\n",
    "\n",
    "Do the following:\n",
    "\n",
    " - Create a dictionary with 3 student records — each should have name, major, and GPA.\n",
    "\n",
    " - Add a new key (\"year\") to each student.\n",
    "\n",
    " - Print each student's full record in a readable format.\n",
    "\n",
    " - Use .get() to safely access a key that may not exist.\n",
    "\n",
    " - Loop through the whole dictionary and print each student's name and GPA only."
   ]
  },
  {
   "cell_type": "code",
   "execution_count": null,
   "id": "87b405fa",
   "metadata": {},
   "outputs": [
    {
     "name": "stdout",
     "output_type": "stream",
     "text": [
      "name - Manny\n",
      "major - CS\n",
      "GPA - 3.3\n",
      "year - 2025\n",
      "\n",
      "name - Christina\n",
      "major - JOU\n",
      "GPA - 4.0\n",
      "year - 2025\n",
      "\n",
      "name - Johnathan\n",
      "major - BUS\n",
      "GPA - 3.8\n",
      "year - 2025\n",
      "\n"
     ]
    },
    {
     "data": {
      "text/plain": [
       "False"
      ]
     },
     "execution_count": 15,
     "metadata": {},
     "output_type": "execute_result"
    }
   ],
   "source": [
    "from datetime import datetime\n",
    "\n",
    "\n",
    "current_year = datetime.now().year\n",
    "# student ONE dictionary\n",
    "student_one = {\n",
    " \"name\": 'Manny',\n",
    "\"major\": \"CS\",\n",
    "\"GPA\": 3.3\n",
    "}\n",
    "\n",
    "# student TWO dictionary\n",
    "student_two = {\n",
    " \"name\": 'Christina',\n",
    "\"major\": \"JOU\",\n",
    "\"GPA\": 4.0\n",
    "}\n",
    "\n",
    "# student THREE dictionary\n",
    "student_three = {\n",
    " \"name\": 'Johnathan',\n",
    "\"major\": \"BUS\",\n",
    "\"GPA\": 3.8\n",
    "}\n",
    "\n",
    "# adding new key to all the students\n",
    "student_one[\"year\"] = current_year\n",
    "student_two[\"year\"] = current_year\n",
    "student_three[\"year\"] = current_year\n",
    "\n",
    "# student one value\n",
    "for key,value in student_one.items():\n",
    "    print(f\"{key} - {value}\")\n",
    "print()\n",
    "# student two value\n",
    "for key,value in student_two.items():\n",
    "    print(f\"{key} - {value}\")\n",
    "print()\n",
    "# student three value\n",
    "for key,value in student_three.items():\n",
    "    print(f\"{key} - {value}\")\n",
    "print()\n",
    "\n",
    "# attempt to get a key that does not exist\n",
    "student_three.get(\"internship\", False) # will return False now instead of Nothing"
   ]
  }
 ],
 "metadata": {
  "kernelspec": {
   "display_name": "Python 3",
   "language": "python",
   "name": "python3"
  },
  "language_info": {
   "codemirror_mode": {
    "name": "ipython",
    "version": 3
   },
   "file_extension": ".py",
   "mimetype": "text/x-python",
   "name": "python",
   "nbconvert_exporter": "python",
   "pygments_lexer": "ipython3",
   "version": "3.13.5"
  }
 },
 "nbformat": 4,
 "nbformat_minor": 5
}
