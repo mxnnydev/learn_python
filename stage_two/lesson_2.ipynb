{
 "cells": [
  {
   "cell_type": "markdown",
   "id": "6bfd6092",
   "metadata": {},
   "source": [
    "## 🔹 Lesson 2: Tuples\n",
    "🎯 Goal: Understand how and when to use immutable sequences in Python."
   ]
  },
  {
   "cell_type": "markdown",
   "id": "7c5a4ce1",
   "metadata": {},
   "source": [
    "✅ What is a Tuple?\n",
    "\n",
    "A tuple is like a list, but immutable — once created, it cannot be changed.\n",
    "\n",
    "```python\n",
    "coordinates = (10.5, 20.3)\n",
    "```"
   ]
  },
  {
   "cell_type": "markdown",
   "id": "f2cb4357",
   "metadata": {},
   "source": [
    "🔹 1. Why Use Tuples?\n",
    "\n",
    " - Safer: prevents accidental changes\n",
    "\n",
    " - Faster than lists\n",
    "\n",
    " - Useful for fixed data (coordinates, RGB colors, settings)"
   ]
  },
  {
   "cell_type": "markdown",
   "id": "cd793f79",
   "metadata": {},
   "source": [
    "🔹 2. Basic Operations\n",
    "\n",
    "```Python\n",
    "t = (\"red\", \"green\", \"blue\")\n",
    "\n",
    "print(t[0])       # red ~ accessing values\n",
    "print(len(t))     # 3 ~ get tuple length\n",
    "print(\"green\" in t)  # True ~ check if inside list\n",
    "```"
   ]
  },
  {
   "cell_type": "markdown",
   "id": "1f898c0a",
   "metadata": {},
   "source": [
    "🔹 3. Unpacking Tuples\n",
    "```python\n",
    "x, y = (10, 20)\n",
    "print(x, y)  # 10 20\n",
    "```\n"
   ]
  },
  {
   "cell_type": "markdown",
   "id": "b7976942",
   "metadata": {},
   "source": [
    "🔹 4. Tuple with One Element\n",
    "```python\n",
    "single = (\"hello\",)  # ← note the comma\n",
    "```"
   ]
  },
  {
   "cell_type": "markdown",
   "id": "61438f26",
   "metadata": {},
   "source": [
    "🔹 5. Tuple + List Hybrid\n",
    "```python\n",
    "student = (\"John\", [90, 95, 100])\n",
    "student[1].append(85)  # list inside a tuple can still change\n",
    "```\n"
   ]
  },
  {
   "cell_type": "markdown",
   "id": "7c2c1728",
   "metadata": {},
   "source": [
    "🧠 Practice Task:\n",
    "\n",
    "1. Create a tuple of 5 countries you want to visit.\n",
    "\n",
    "2. Print the first and last country.\n",
    "\n",
    "3. Unpack the first 3 countries into separate variables.\n",
    "\n",
    "Try to modify a value in the tuple — what happens?\n",
    "\n",
    "- Add a list inside a tuple and modify that list."
   ]
  },
  {
   "cell_type": "code",
   "execution_count": 10,
   "id": "846bd263",
   "metadata": {},
   "outputs": [
    {
     "name": "stdout",
     "output_type": "stream",
     "text": [
      "Japan Italy New Zealand\n"
     ]
    }
   ],
   "source": [
    "countries = (\"Japan\", \"Italy\", \"New Zealand\", \"Iceland\", \"Brazil\")\n",
    "\n",
    "countries_first = countries[0] # get the first item in the list \n",
    "\n",
    "countries_last = countries[-1] # get the last item in the list \n",
    "\n",
    "travel_destination_one,travel_destination_two,travel_destination_three = countries[:3] # tuple unpacking\n",
    "\n",
    "print(travel_destination_one, travel_destination_two, travel_destination_three) # will display the first three countries in the tuple\n"
   ]
  }
 ],
 "metadata": {
  "kernelspec": {
   "display_name": "Python 3",
   "language": "python",
   "name": "python3"
  },
  "language_info": {
   "codemirror_mode": {
    "name": "ipython",
    "version": 3
   },
   "file_extension": ".py",
   "mimetype": "text/x-python",
   "name": "python",
   "nbconvert_exporter": "python",
   "pygments_lexer": "ipython3",
   "version": "3.13.5"
  }
 },
 "nbformat": 4,
 "nbformat_minor": 5
}
