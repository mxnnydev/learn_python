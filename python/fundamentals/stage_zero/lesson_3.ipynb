{
 "cells": [
  {
   "cell_type": "markdown",
   "id": "f5ddec59",
   "metadata": {},
   "source": [
    "✅ Lesson 3: Operators\n",
    "\n",
    "🎯 GOAL:\n",
    "Use Python to do math, compare values, and build logic."
   ]
  },
  {
   "cell_type": "markdown",
   "id": "c1f1e2e9",
   "metadata": {},
   "source": [
    "🧮 1. Arithmetic Operators\n",
    "\n",
    "| Symbol | Meaning        | Example (`a = 10`, `b = 3`) | Result |\n",
    "| ------ | -------------- | --------------------------- | ------ |\n",
    "| `+`    | Addition       | `a + b`                     | `13`   |\n",
    "| `-`    | Subtraction    | `a - b`                     | `7`    |\n",
    "| `*`    | Multiplication | `a * b`                     | `30`   |\n",
    "| `/`    | Division       | `a / b`                     | `3.33` |\n",
    "| `//`   | Floor Division | `a // b`                    | `3`    |\n",
    "| `%`    | Modulus        | `a % b`                     | `1`    |\n",
    "| `**`   | Exponent       | `a ** b`                    | `1000` |\n"
   ]
  },
  {
   "cell_type": "markdown",
   "id": "7b35ef64",
   "metadata": {},
   "source": [
    "🔍 2. Comparison Operators\n",
    "These return True or False.\n",
    "| Symbol | Meaning          | Example  |\n",
    "| ------ | ---------------- | -------- |\n",
    "| `==`   | Equal to         | `a == b` |\n",
    "| `!=`   | Not equal to     | `a != b` |\n",
    "| `>`    | Greater than     | `a > b`  |\n",
    "| `<`    | Less than        | `a < b`  |\n",
    "| `>=`   | Greater or equal | `a >= b` |\n",
    "| `<=`   | Less or equal    | `a <= b` |\n"
   ]
  },
  {
   "cell_type": "markdown",
   "id": "fc69c69b",
   "metadata": {},
   "source": [
    "🧠 3. Logical Operators\n",
    "Combine conditions using logic\n",
    "| Operator | Meaning       | Example                       |\n",
    "| -------- | ------------- | ----------------------------- |\n",
    "| `and`    | Both true     | `age > 18 and city == \"NY\"`   |\n",
    "| `or`     | Either true   | `user == \"admin\" or is_guest` |\n",
    "| `not`    | Reverse logic | `not is_tired` (True → False) |"
   ]
  },
  {
   "cell_type": "code",
   "execution_count": 1,
   "id": "11a90dc9",
   "metadata": {},
   "outputs": [
    {
     "name": "stdout",
     "output_type": "stream",
     "text": [
      "You can enter.\n"
     ]
    }
   ],
   "source": [
    "age = 25\n",
    "has_ticket = True\n",
    "\n",
    "if age >= 18 and has_ticket:\n",
    "    print(\"You can enter.\")\n",
    "else:\n",
    "    print(\"Access denied.\")"
   ]
  },
  {
   "cell_type": "markdown",
   "id": "71de283a",
   "metadata": {},
   "source": [
    "# 🧪 Mini Challenge:\n",
    "Write a short script that:\n",
    "- Asks the user for two numbers.\n",
    "\n",
    " - Prints:\n",
    "\n",
    "    - Their sum, difference, product, quotient, and modulus.\n",
    "\n",
    "    - Then ask:\n",
    "\n",
    "    - “Is the first number greater than the second?”\n",
    "\n",
    "    - Print True or False.\n",
    "\n"
   ]
  },
  {
   "cell_type": "code",
   "execution_count": 5,
   "id": "fe42beeb",
   "metadata": {},
   "outputs": [
    {
     "name": "stdout",
     "output_type": "stream",
     "text": [
      "num1 + num2 = 15\n",
      "\n",
      "num1 - num2 = 5\n",
      "\n",
      "num1 * num2 = 50\n",
      "\n",
      "num1 / num2 = 2.0\n",
      "\n",
      "num1 % num2 = 0\n",
      "\n",
      "Is the first number greater than the second? True\n"
     ]
    }
   ],
   "source": [
    "# prompt users for numbers \n",
    "num1 = int(input(\"Please enter number **one** value:\"))\n",
    "num2 = int(input(\"Please enter number **two** value:\"))\n",
    "\n",
    "# get sum \n",
    "print(f\"num1 + num2 = {num1 + num2}\")\n",
    "\n",
    "print() # add a line break\n",
    "\n",
    "# get difference \n",
    "print(f\"num1 - num2 = {num1 - num2}\")\n",
    "\n",
    "print() # add a line break\n",
    "\n",
    "# get product\n",
    "print(f\"num1 * num2 = {num1 * num2}\")\n",
    "\n",
    "print() # add a line break\n",
    "\n",
    "# get quotient \n",
    "print(f\"num1 / num2 = {num1 / num2}\")\n",
    "\n",
    "print() # add a line break\n",
    "\n",
    "# get modulus (remainder) \n",
    "print(f\"num1 % num2 = {num1 % num2}\")\n",
    "\n",
    "\n",
    "print(\"\\nIs the first number greater than the second?\", num1 > num2)\n"
   ]
  }
 ],
 "metadata": {
  "kernelspec": {
   "display_name": "Python 3",
   "language": "python",
   "name": "python3"
  },
  "language_info": {
   "codemirror_mode": {
    "name": "ipython",
    "version": 3
   },
   "file_extension": ".py",
   "mimetype": "text/x-python",
   "name": "python",
   "nbconvert_exporter": "python",
   "pygments_lexer": "ipython3",
   "version": "3.13.5"
  }
 },
 "nbformat": 4,
 "nbformat_minor": 5
}
