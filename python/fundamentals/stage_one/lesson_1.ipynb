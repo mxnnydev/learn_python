{
 "cells": [
  {
   "cell_type": "markdown",
   "id": "4f65e301",
   "metadata": {},
   "source": [
    "🔹 Stage 1: Functions & Reusability\n",
    "\n",
    "🎯 Goal: Learn how to write clean, reusable code using Python functions — a foundational skill for all software and SaaS.\n",
    "\n",
    "🧠 What You’ll Learn:\n",
    "\n",
    "1. Writing functions with def and return\n",
    "\n",
    "2. Parameters vs arguments (positional & keyword)\n",
    "\n",
    "3. Default arguments\n",
    "\n",
    "4. Variable scope (local vs global)\n",
    "\n",
    "5. Lambda (anonymous) functions\n",
    "\n",
    "6. Reusability through modular functions"
   ]
  },
  {
   "cell_type": "markdown",
   "id": "3c114d8c",
   "metadata": {},
   "source": [
    "🔸 LESSON BREAKDOWN"
   ]
  },
  {
   "cell_type": "markdown",
   "id": "ea8e752b",
   "metadata": {},
   "source": [
    "✅ 1. Writing Your First Function\n",
    "\n",
    "```python\n",
    "def greet(name):\n",
    "    return f\"Hello, {name}!\"\n",
    "\n",
    "# calling the function\n",
    "print(greet(\"Emmanuel\"))  # Output: Hello, Emmanuel!\n",
    "\n",
    "```\n",
    "\n",
    "Key Concepts:\n",
    "\n",
    "    def: defines a function\n",
    "\n",
    "    name: parameter\n",
    "\n",
    "    return: sends back a value to the caller\n"
   ]
  },
  {
   "cell_type": "markdown",
   "id": "25b2b13f",
   "metadata": {},
   "source": [
    "✅ 2. Parameters vs Arguments\n",
    "\n",
    "```python\n",
    "def add(x, y):  # x, y are parameters\n",
    "    return x + y\n",
    "\n",
    "result = add(3, 5)  # 3, 5 are arguments\n",
    "\n",
    "# You can also pass by keyword:\n",
    "print(add(y=10, x=4))  # Output: 14\n",
    "```"
   ]
  },
  {
   "cell_type": "markdown",
   "id": "dd64ef7e",
   "metadata": {},
   "source": [
    "✅ 3. Default Arguments\n",
    "\n",
    "```python \n",
    "def greet(name, prefix=\"Mr./Ms.\"):\n",
    "    return f\"Hello, {prefix} {name}\"\n",
    "\n",
    "print(greet(\"Emmanuel\"))           # Hello, Mr./Ms. Emmanuel\n",
    "print(greet(\"Manny\", prefix=\"Dr.\"))  # Hello, Dr. Manny\n",
    "```\n"
   ]
  },
  {
   "cell_type": "markdown",
   "id": "1d840ef4",
   "metadata": {},
   "source": [
    "✅ 4. Variable Scope\n",
    "```python\n",
    "x = 10  # Global\n",
    "\n",
    "def change():\n",
    "    x = 5  # Local to this function\n",
    "    print(\"Inside function:\", x)\n",
    "\n",
    "change() # output: Inside function: 5\n",
    "print(\"Outside function:\", x) # output: Inside function: 10\n",
    "```\n",
    "\n",
    "To modify global:\n",
    "\n",
    "```python\n",
    "x = 10\n",
    "\n",
    "def modify():\n",
    "    global x # access the global scope of the variable ~ will no create local scope version of the variable\n",
    "    x = 20\n",
    "\n",
    "modify()\n",
    "print(x)  # Output: 20\n",
    "```"
   ]
  },
  {
   "cell_type": "markdown",
   "id": "9b2001f0",
   "metadata": {},
   "source": [
    "✅ 5. Lambda Functions (Anonymous)\n",
    "\n",
    "```python\n",
    "square = lambda x: x ** 2\n",
    "print(square(4))  # Output: 16\n",
    "```\n",
    "\n",
    "More advanced:\n",
    "\n",
    "```python\n",
    "add = lambda x, y: x + y\n",
    "print(add(2, 3))  # Output: 5\n",
    "```\n",
    "\n",
    "Great for short, quick logic passed to other functions (like map, filter, etc.) ~ Basically it a one-liner function"
   ]
  },
  {
   "cell_type": "markdown",
   "id": "ab59f672",
   "metadata": {},
   "source": [
    "✅ 6. Reusability & Modularity\n",
    "\n",
    "Instead of repeating code:\n",
    "\n",
    "```python\n",
    "def calculate_tax(price, tax_rate=0.08):\n",
    "    return price * (1 + tax_rate)\n",
    "\n",
    "def print_receipt(item, price):\n",
    "    final_price = calculate_tax(price)\n",
    "    print(f\"{item}: ${final_price:.2f}\")\n",
    "```\n",
    "\n",
    "This makes your code:\n",
    "\n",
    "- Easy to maintain\n",
    "\n",
    "- Easier to scale\n",
    "\n",
    "- Cleaner to test"
   ]
  },
  {
   "cell_type": "markdown",
   "id": "07016676",
   "metadata": {},
   "source": [
    "### 💡 Mini-Project: Tip Calculator (Reusable Version)\n",
    "\n",
    "Write a script that:\n",
    "\n",
    "1. Asks for bill amount\n",
    "\n",
    "2. Asks for tip percentage\n",
    "\n",
    "3. Uses a function to calculate final total\n",
    "\n",
    "4. Repeats with option to quit"
   ]
  },
  {
   "cell_type": "code",
   "execution_count": 4,
   "id": "c0628469",
   "metadata": {},
   "outputs": [
    {
     "name": "stdout",
     "output_type": "stream",
     "text": [
      "\n",
      "Welcome to the Tip Calculator! 🫰\n",
      "\n",
      "Tip amount: $20.00\n",
      "Total amount (including tip): $120.00\n"
     ]
    }
   ],
   "source": [
    "def tip_calculator():\n",
    "    bill_amount = float(input(\"Enter the total bill amount: \"))\n",
    "    tip_percentage = float(input(\"Enter the tip percentage (e.g., 15 for 15%): \"))\n",
    "    tip_amount = bill_amount * (tip_percentage / 100)\n",
    "    total_amount = bill_amount + tip_amount\n",
    "    return tip_amount, total_amount\n",
    "\n",
    "print(\"\\nWelcome to the Tip Calculator! 🫰\\n\")\n",
    "\n",
    "while True:\n",
    "    # call the function and print the results   \n",
    "    tip, total = tip_calculator()\n",
    "    print(f\"Tip amount: ${tip:.2f}\")\n",
    "    print(f\"Total amount (including tip): ${total:.2f}\")\n",
    "    cont = input(\"Do you want to calculate another tip? (yes/no): \").strip().lower()\n",
    "    if cont != 'yes':\n",
    "        break"
   ]
  },
  {
   "cell_type": "markdown",
   "id": "88f12b53",
   "metadata": {},
   "source": [
    "#### 🎯 Exit Ticket Files"
   ]
  },
  {
   "cell_type": "code",
   "execution_count": 8,
   "id": "731b7912",
   "metadata": {},
   "outputs": [
    {
     "name": "stdout",
     "output_type": "stream",
     "text": [
      "25 is odd\n",
      "20 is even\n"
     ]
    }
   ],
   "source": [
    "# Even or Odd Function\n",
    "\n",
    "def even_or_odd(number):\n",
    "    while not str(number).isdigit():\n",
    "        print(\"Invalid Input (Ensure you're using integer values) \")\n",
    "    \n",
    "    if int(number) % 2 == 0:\n",
    "        return f\"{number} is even\"\n",
    "    else:\n",
    "        return f\"{number} is odd\"\n",
    "        \n",
    "        \n",
    "# calling the function\n",
    "print(even_or_odd(25))\n",
    "print(even_or_odd(20))"
   ]
  },
  {
   "cell_type": "code",
   "execution_count": 20,
   "id": "de69cbc4",
   "metadata": {},
   "outputs": [
    {
     "name": "stdout",
     "output_type": "stream",
     "text": [
      "Good Afternoon Mrs/Mr. Manny\n",
      "Good Afternoon Mr. Manny\n"
     ]
    }
   ],
   "source": [
    "from datetime import datetime\n",
    "\n",
    "hour = datetime.now().hour\n",
    "\n",
    "# 12:00 to 16:59 → Afternoon\n",
    "def get_time_of_day():\n",
    "    match hour:\n",
    "        case h if 5 <= h < 12:\n",
    "            return \"Morning\"\n",
    "        case h if 12 <= h < 17:\n",
    "            return \"Afternoon\"\n",
    "        case h if 17 <= h < 21:\n",
    "            return \"Evening\"\n",
    "        case _:\n",
    "             return \"Night\"\n",
    "\n",
    "\n",
    "# 🧠 Save the return value in a variable\n",
    "time_label = get_time_of_day()\n",
    "\n",
    "\n",
    "# custom greeting program\n",
    "\n",
    "def greet(name, prefix=\"mrs/mr\"):\n",
    "    return f\"Good {time_label} {prefix.title()}. {name.capitalize()}\"\n",
    "\n",
    "print(greet(\"Manny\")) # not including prefix\n",
    "print(greet(\"Manny\", \"Mr\")) # including prefix\n",
    "    "
   ]
  },
  {
   "cell_type": "code",
   "execution_count": 21,
   "id": "fb3eb410",
   "metadata": {},
   "outputs": [
    {
     "name": "stdout",
     "output_type": "stream",
     "text": [
      "[0, 2, 4, 6, 8, 10]\n"
     ]
    }
   ],
   "source": [
    "# filter_evens.py\n",
    "# Task:\n",
    "# Use a lambda function with filter() to extract all even numbers from a given list of integers.\n",
    "\n",
    "even_numbers = lambda x: x % 2 == 0\n",
    "\n",
    "even = list(filter(even_numbers, range(11)))\n",
    "\n",
    "print(even)"
   ]
  },
  {
   "cell_type": "code",
   "execution_count": 24,
   "id": "7614fd53",
   "metadata": {},
   "outputs": [
    {
     "name": "stdout",
     "output_type": "stream",
     "text": [
      "\n",
      "Welcome to the Compound Interest Calculator! 💰\n",
      "\n",
      "\n",
      "\n",
      "The following compound interest calculated is: 2011.36\n"
     ]
    },
    {
     "data": {
      "text/plain": [
       "'2011.36'"
      ]
     },
     "execution_count": 24,
     "metadata": {},
     "output_type": "execute_result"
    }
   ],
   "source": [
    "# compound interest : Write a function that calculates compound interest, given:\n",
    "\n",
    "# principal (initial amount)\n",
    "\n",
    "# rate (annual interest rate in %)\n",
    "\n",
    "# time (in years)\n",
    "\n",
    "# Use the formula:\n",
    "# A = P × (1 + r/100) ^ t\n",
    "\n",
    "def compound_interest():\n",
    "    principal = float(input(\"Enter the value for principal (initial amount): \"))\n",
    "    rate = float(input(\"\\nEnter the value for rate (annual interest rate in %): \"))\n",
    "    time = int(input())\n",
    "\n",
    "    # calculate compound interest\n",
    "    compound_interest_calculated = principal * (1 + rate/100) ** time\n",
    "    print(f\"\\n\\nThe following compound interest calculated is: {compound_interest_calculated:.2f}\")\n",
    "    return f\"{compound_interest_calculated:.2f}\"\n",
    "\n",
    "# testing the function\n",
    "print(\"\\nWelcome to the Compound Interest Calculator! 💰\\n\")\n",
    "\n",
    "# calling the function and printing the result\n",
    "compound_interest()"
   ]
  }
 ],
 "metadata": {
  "kernelspec": {
   "display_name": "Python 3",
   "language": "python",
   "name": "python3"
  },
  "language_info": {
   "codemirror_mode": {
    "name": "ipython",
    "version": 3
   },
   "file_extension": ".py",
   "mimetype": "text/x-python",
   "name": "python",
   "nbconvert_exporter": "python",
   "pygments_lexer": "ipython3",
   "version": "3.13.5"
  }
 },
 "nbformat": 4,
 "nbformat_minor": 5
}
