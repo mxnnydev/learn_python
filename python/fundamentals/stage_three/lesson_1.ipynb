{
 "cells": [
  {
   "cell_type": "markdown",
   "id": "a163e49e",
   "metadata": {},
   "source": [
    "✅ Lesson 1: File I/O Basics (TXT Files)\n",
    "\n",
    "Let’s break this down from first principles:\n",
    "\n",
    "🧠 First Principles Mindset\n",
    "\n",
    "Why learn this? \n",
    "\n",
    "In real life, data lives in files: logs, documents, exports, etc.\n",
    "\n",
    "What’s the goal? You want your Python script to read from or write to files — just like apps log user actions or save settings."
   ]
  },
  {
   "cell_type": "markdown",
   "id": "82e3c65b",
   "metadata": {},
   "source": [
    "✍️ Core Concepts\n",
    "\n",
    "open() – Think of this as unlocking a file.\n",
    "\n",
    "```python\n",
    "file = open('myfile.txt')  # opens file in read mode by default\n",
    "```\n",
    "read() – Reads the entire file as a string.\n",
    "```python\n",
    "content = file.read()\n",
    "print(content)\n",
    "```\n"
   ]
  },
  {
   "cell_type": "markdown",
   "id": "aa3cc6c0",
   "metadata": {},
   "source": [
    "3. Always close your files with <code>.close()</code> (or better: use with)\n",
    "```python\n",
    "file.close()\n",
    "```\n",
    "\n"
   ]
  },
  {
   "cell_type": "markdown",
   "id": "c7687bf9",
   "metadata": {},
   "source": [
    "4. Better way: with open(...) as file — it handles closing automatically.\n",
    "\n",
    "```python\n",
    "with open('myfile.txt') as file:\n",
    "    content = file.read()\n",
    "    print(content)\n",
    "```"
   ]
  },
  {
   "cell_type": "markdown",
   "id": "ba959400",
   "metadata": {},
   "source": [
    "✏️ Try This: Writing to a File\n",
    "```python\n",
    "with open('log.txt', 'w') as file:\n",
    "    file.write(\"First log entry!\\n\")\n",
    "```\n",
    "'w' means write mode — it overwrites the file."
   ]
  },
  {
   "cell_type": "markdown",
   "id": "066dd904",
   "metadata": {},
   "source": [
    "Use 'a' (append) to add lines without erasing:\n",
    "\n",
    "```python\n",
    "with open('log.txt', 'a') as file:\n",
    "    file.write(\"Another log entry.\\n\")\n",
    "```\n",
    "\n"
   ]
  },
  {
   "cell_type": "markdown",
   "id": "1e7b6860",
   "metadata": {},
   "source": [
    "🧪 Hands-On Mini Exercise: Write a few entries to it from Python.\n",
    "----\n",
    "Task: Write a Python script that:\n",
    "\n",
    "Asks for a journal entry with input()\n",
    "\n",
    "Appends it to journal.txt\n",
    "\n",
    "Prints: \"Entry saved.\"\n",
    "\n"
   ]
  },
  {
   "cell_type": "code",
   "execution_count": 3,
   "id": "675a2f2b",
   "metadata": {},
   "outputs": [
    {
     "name": "stdout",
     "output_type": "stream",
     "text": [
      "\n",
      "Entry saved\n",
      "Here is the content in the file\n",
      "\n",
      "Hi, I’m Emmanuel. Today, I’m diving into Python and learning it step by step.\n",
      "\n"
     ]
    }
   ],
   "source": [
    "from datetime import datetime\n",
    "current_date = datetime.now().strftime(\"%d/%m/%Y\")\n",
    "filename = \"journal.txt\"\n",
    "    # open file in append mode (create the file if does not exist)\n",
    "with open(filename, \"a\") as file:\n",
    "    journal_entry = input(f\"Please enter journal entry for {current_date}\")\n",
    "    # write to the file ~ based on user input\n",
    "    file.write(f\"{journal_entry}\\n\")\n",
    "    print(\"\\nEntry saved\")\n",
    "\n",
    "# reading the file now to view the content\n",
    "with open(filename, \"r\") as file:\n",
    "    content = file.read()\n",
    "\n",
    "    print(f\"Here is the content in the file\\n\\n{content}\")"
   ]
  }
 ],
 "metadata": {
  "kernelspec": {
   "display_name": "Python 3",
   "language": "python",
   "name": "python3"
  },
  "language_info": {
   "codemirror_mode": {
    "name": "ipython",
    "version": 3
   },
   "file_extension": ".py",
   "mimetype": "text/x-python",
   "name": "python",
   "nbconvert_exporter": "python",
   "pygments_lexer": "ipython3",
   "version": "3.13.5"
  }
 },
 "nbformat": 4,
 "nbformat_minor": 5
}
