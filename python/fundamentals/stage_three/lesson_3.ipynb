{
 "cells": [
  {
   "cell_type": "markdown",
   "id": "97c83085",
   "metadata": {},
   "source": [
    "#### 🔹 Stage 3: Files, Errors, & Modular Code — Complete Lesson\n",
    "\n",
    "#### 🧱 Big Picture: Why This Matters (Founder Mindset)\n",
    "As a startup founder, you're not just building apps — you're managing data.\n",
    "\n",
    "Logs, customer input, API responses, sensor data — it all needs to be stored, retrieved, and processed.\n",
    "\n",
    "When things break, you need your app to fail gracefully, not explode.\n",
    "\n",
    "And as your codebase grows, you must organize it into reusable pieces.\n",
    "\n",
    "So this stage teaches you how to handle data like a pro, build crash-resistant tools, and structure your code into mini “microservices.”\n"
   ]
  },
  {
   "cell_type": "markdown",
   "id": "60e2f4fb",
   "metadata": {},
   "source": [
    "🔹 Part 1: File I/O (Input/Output)\n",
    "🧠 Real-World Analogy:\n",
    "\n",
    "Think of files as notebooks — you open them, write stuff, and close them.\n",
    "\n",
    "📘 Basics:\n",
    "\n",
    "```python\n",
    "# Writing to a file ~ create the file if does not exist\n",
    "with open(\"log.txt\", \"w\") as file:\n",
    "    file.write(\"User signed up\\n\")\n",
    "\n",
    "# Appending to a file ~ create the file if does not exist\n",
    "with open(\"log.txt\", \"a\") as file:\n",
    "    file.write(\"User clicked checkout\\n\")\n",
    "\n",
    "# Reading from a file ~ you can exempted use of 'r'\n",
    "with open(\"log.txt\", \"r\") as file:\n",
    "    content = file.read()\n",
    "    print(content)\n",
    "```"
   ]
  },
  {
   "cell_type": "markdown",
   "id": "f40a04bf",
   "metadata": {},
   "source": [
    "🧪 Exercise:\n",
    "\n",
    "Create a file journal.txt and write 3 entries to it.\n",
    "\n",
    "Then read them back and print them line by line."
   ]
  },
  {
   "cell_type": "code",
   "execution_count": 2,
   "id": "6ebb01cf",
   "metadata": {},
   "outputs": [
    {
     "name": "stdout",
     "output_type": "stream",
     "text": [
      "I like programming\n",
      "I like cricket\n",
      "I like boxing\n"
     ]
    }
   ],
   "source": [
    "filename = \"journal.txt\" # filename\n",
    "\n",
    "with open(filename, 'w') as f:\n",
    "    f.write(\"I like programming\\n\")\n",
    "    f.write(\"I like cricket\\n\")\n",
    "    f.write(\"I like boxing\\n\")\n",
    "\n",
    "with open(filename) as f:\n",
    "    for line in f:\n",
    "        print(line.strip())"
   ]
  },
  {
   "cell_type": "markdown",
   "id": "a1e30ae9",
   "metadata": {},
   "source": [
    "🔹 Part 2: Reading/Writing CSV & JSON\n",
    "\n",
    "📦 CSV (like spreadsheets):\n",
    "\n",
    "```python\n",
    "import csv\n",
    "\n",
    "# Writing CSV\n",
    "with open(\"users.csv\", \"w\", newline=\"\") as file:\n",
    "    writer = csv.writer(file)\n",
    "    writer.writerow([\"name\", \"email\"])\n",
    "    writer.writerow([\"Elon\", \"elon@x.com\"])\n",
    "    writer.writerow([\"Ada\", \"ada@lovelace.ai\"])\n",
    "\n",
    "# Reading CSV\n",
    "with open(\"users.csv\", \"r\") as file:\n",
    "    reader = csv.reader(file)\n",
    "    for row in reader:\n",
    "        print(row)\n",
    "```"
   ]
  },
  {
   "cell_type": "markdown",
   "id": "921c7b48",
   "metadata": {},
   "source": [
    "🌐 JSON (like API data):\n",
    "\n",
    "```python\n",
    "import json\n",
    "\n",
    "data = {\"name\": \"Elon\", \"balance\": 42000}\n",
    "\n",
    "# Save to file\n",
    "with open(\"profile.json\", \"w\") as f:\n",
    "    json.dump(data, f) # Dumping: Writing Python data structures (like dicts/lists) to a JSON-formatted file.\n",
    "\n",
    "# Load from file\n",
    "with open(\"profile.json\", \"r\") as f:\n",
    "    user = json.load(f) # Loading: Reading JSON-formatted data from a file and converting it back into Python structures.\n",
    "    print(user[\"name\"])\n",
    "```"
   ]
  },
  {
   "cell_type": "markdown",
   "id": "893b912c",
   "metadata": {},
   "source": [
    "🔹 Part 3: Error Handling with try / except\n",
    "\n",
    "🧠 Real-World Analogy:\n",
    "\n",
    "Like putting a seatbelt in your code — so it doesn't crash on small bumps.\n",
    "\n",
    "```python\n",
    "try:\n",
    "    age = int(input(\"Enter your age: \"))\n",
    "    print(\"You’ll be 100 in\", 100 - age, \"years.\")\n",
    "except ValueError:\n",
    "    print(\"Please enter a valid number.\")\n",
    "```"
   ]
  },
  {
   "cell_type": "markdown",
   "id": "d3938a8c",
   "metadata": {},
   "source": [
    "🧪 Your Turn:\n",
    "Ask user to input a file name.\n",
    "\n",
    "Try to open it.\n",
    "\n",
    "If it doesn't exist, catch the error and print \"File not found.\""
   ]
  },
  {
   "cell_type": "code",
   "execution_count": null,
   "id": "0fc724dc",
   "metadata": {},
   "outputs": [
    {
     "name": "stdout",
     "output_type": "stream",
     "text": [
      "File not found\n"
     ]
    }
   ],
   "source": [
    "filename = input(\"Enter filename (name of the file you're searching for): \")\n",
    "\n",
    "# Use try-except to gracefully handle errors, such as when the file doesn't exist.\n",
    "try:\n",
    "    with open(filename) as f:\n",
    "        print(f.read())\n",
    "except FileNotFoundError:\n",
    "    print(\"File not found\")"
   ]
  },
  {
   "cell_type": "markdown",
   "id": "2c491373",
   "metadata": {},
   "source": [
    "🔹 Part 4: Modular Code with import and Your Own Modules\n",
    "\n",
    "🧠 Real-World Analogy:\n",
    "\n",
    "Break your code into Lego bricks — each one with a single job.\n",
    "\n",
    "🔄 Example:\n",
    "\n",
    "\n",
    "file: math_tools.py\n",
    "\n",
    "```python\n",
    "def add(a, b):\n",
    "    return a + b\n",
    "```\n",
    "\n",
    "file: main.py\n",
    "\n",
    "```python\n",
    "import math_tools\n",
    "\n",
    "print(math_tools.add(3, 5))\n",
    "```"
   ]
  },
  {
   "cell_type": "markdown",
   "id": "b11c3061",
   "metadata": {},
   "source": [
    "🧪 Try This:\n",
    "\n",
    "Create a module logger.py with a function log(message)\n",
    "\n",
    "Call it from another file to write logs to log.txt"
   ]
  },
  {
   "cell_type": "code",
   "execution_count": null,
   "id": "3be98d1c",
   "metadata": {},
   "outputs": [],
   "source": []
  }
 ],
 "metadata": {
  "kernelspec": {
   "display_name": "Python 3",
   "language": "python",
   "name": "python3"
  },
  "language_info": {
   "codemirror_mode": {
    "name": "ipython",
    "version": 3
   },
   "file_extension": ".py",
   "mimetype": "text/x-python",
   "name": "python",
   "nbconvert_exporter": "python",
   "pygments_lexer": "ipython3",
   "version": "3.13.5"
  }
 },
 "nbformat": 4,
 "nbformat_minor": 5
}
