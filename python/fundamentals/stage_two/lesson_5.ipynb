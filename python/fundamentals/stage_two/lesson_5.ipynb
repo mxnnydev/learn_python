{
 "cells": [
  {
   "cell_type": "markdown",
   "id": "eb797b9e",
   "metadata": {},
   "source": [
    "🔹 Lesson 5: Combining Data Structures\n",
    "\n",
    "🎯 Goal: Learn how to build complex, real-world data models by combining lists, dictionaries, sets, and tuples."
   ]
  },
  {
   "cell_type": "markdown",
   "id": "9cc4b87f",
   "metadata": {},
   "source": [
    "✅ Common Patterns"
   ]
  },
  {
   "cell_type": "markdown",
   "id": "0a348e97",
   "metadata": {
    "vscode": {
     "languageId": "plaintext"
    }
   },
   "source": [
    "1. List of Dictionaries (most common)\n",
    "\n",
    "```python\n",
    "students = [\n",
    "    {\"name\": \"Alice\", \"GPA\": 3.7},\n",
    "    {\"name\": \"Bob\", \"GPA\": 3.2},\n",
    "    {\"name\": \"Charlie\", \"GPA\": 3.9}\n",
    "]\n",
    "```"
   ]
  },
  {
   "cell_type": "markdown",
   "id": "dcea844a",
   "metadata": {},
   "source": [
    "2. Dictionary of Lists\n",
    "```python\n",
    "grades = {\n",
    "    \"math\": [90, 85, 88],\n",
    "    \"science\": [92, 89, 95]\n",
    "}\n",
    "```"
   ]
  },
  {
   "cell_type": "markdown",
   "id": "89600b34",
   "metadata": {},
   "source": [
    "4. Dictionary with Tuple Keys\n",
    "```python\n",
    "locations = {\n",
    "    (13.1, 80.2): \"Chennai\",\n",
    "    (40.7, -74.0): \"New York\"\n",
    "}\n",
    "```"
   ]
  },
  {
   "cell_type": "markdown",
   "id": "fe49aa76",
   "metadata": {},
   "source": [
    "✅ How to Use\n",
    "\n",
    "Iterate over a list of dictionaries:\n",
    "\n",
    "```python\n",
    "for student in students:\n",
    "    print(student[\"name\"], student[\"GPA\"])\n",
    "```\n",
    "\n",
    "Access a nested value:\n",
    "```python\n",
    "print(users[\"john123\"][\"email\"])\n",
    "```\n",
    "\n"
   ]
  },
  {
   "cell_type": "markdown",
   "id": "a99ae367",
   "metadata": {},
   "source": [
    "🧠 Practice Task:\n",
    "\n",
    "Do the following:\n",
    "- Create a list of 3 dictionaries, each representing a product (with name, price, in_stock).\n",
    "\n",
    "- Add a new product to the list.\n",
    "\n",
    "- Loop through and print only products that are in stock.\n",
    "\n",
    "- Create a dictionary where each key is a category (like \"Electronics\", \"Clothing\"), and each value is a list of products in that category.\n",
    "\n",
    "- Print each category with the total number of products inside it."
   ]
  },
  {
   "cell_type": "code",
   "execution_count": 22,
   "id": "54210ffd",
   "metadata": {},
   "outputs": [
    {
     "name": "stdout",
     "output_type": "stream",
     "text": [
      "{'name': 'Laptop', 'price': 899.99, 'in_stock': True}\n",
      "{'name': 'Keyboard', 'price': 49.99, 'in_stock': True}\n",
      "{'name': 'Smartphone', 'price': 699.0, 'in_stock': True}\n",
      "\n",
      "Electronics\n",
      "Products for sale: 2\n",
      "\n",
      "Clothing\n",
      "Products for sale: 2\n",
      "\n",
      "Accessories\n",
      "Products for sale: 2\n",
      "\n"
     ]
    }
   ],
   "source": [
    "# list with dictionaries\n",
    "products = [\n",
    "    # Create a list of 3 dictionaries, each representing a product (with name, price, in_stock).\n",
    "    {\"name\": \"Laptop\", \"price\": 899.99, \"in_stock\": True},\n",
    "    {\"name\": \"Headphones\", \"price\": 199.99, \"in_stock\": False},\n",
    "    {\"name\": \"Keyboard\", \"price\": 49.99, \"in_stock\": True}\n",
    "]\n",
    "\n",
    "# Add a new product to the list.\n",
    "products.append({\"name\": \"Smartphone\", \"price\": 699.00, \"in_stock\": True})\n",
    "\n",
    "for product in products:\n",
    "    # only if the product is in stock display info\n",
    "    if product[\"in_stock\"]:\n",
    "        print(product)\n",
    "\n",
    "# Create a dictionary where each key is a category\n",
    "store_inventory = {\n",
    "    \"Electronics\": [\n",
    "        {\"name\": \"Laptop\", \"price\": 899.99, \"in_stock\": True},\n",
    "        {\"name\": \"Smartphone\", \"price\": 699.00, \"in_stock\": True}\n",
    "    ],\n",
    "    \"Clothing\": [\n",
    "        {\"name\": \"T-Shirt\", \"price\": 19.99, \"in_stock\": True},\n",
    "        {\"name\": \"Jeans\", \"price\": 49.99, \"in_stock\": False}\n",
    "    ],\n",
    "    \"Accessories\": [\n",
    "        {\"name\": \"Watch\", \"price\": 149.99, \"in_stock\": True},\n",
    "        {\"name\": \"Backpack\", \"price\": 59.99, \"in_stock\": True}\n",
    "    ]\n",
    "}\n",
    "\n",
    "print()\n",
    "\n",
    "# print each category the number of products found \n",
    "for key,value in store_inventory.items(): print(f\"{key}\\nProducts for sale: {len(value)}\\n\")\n",
    "\n",
    "\n",
    "\n"
   ]
  }
 ],
 "metadata": {
  "kernelspec": {
   "display_name": "Python 3",
   "language": "python",
   "name": "python3"
  },
  "language_info": {
   "codemirror_mode": {
    "name": "ipython",
    "version": 3
   },
   "file_extension": ".py",
   "mimetype": "text/x-python",
   "name": "python",
   "nbconvert_exporter": "python",
   "pygments_lexer": "ipython3",
   "version": "3.13.5"
  }
 },
 "nbformat": 4,
 "nbformat_minor": 5
}
