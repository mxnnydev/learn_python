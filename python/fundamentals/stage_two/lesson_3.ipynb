{
 "cells": [
  {
   "cell_type": "markdown",
   "id": "e5ac5f04",
   "metadata": {},
   "source": [
    "🔹 Lesson 3: Sets\n",
    "\n",
    "🎯 Goal: Learn how to use sets to manage unique, unordered collections — great for filtering, fast lookups, and set operations."
   ]
  },
  {
   "cell_type": "markdown",
   "id": "2709fd5e",
   "metadata": {},
   "source": [
    "✅ What is a Set?\n",
    "\n",
    "A set is:\n",
    "\n",
    " - Unordered\n",
    "\n",
    " - Unindexed\n",
    "\n",
    "Unique (no duplicates)\n",
    "\n",
    "```python\n",
    "my_set = {\"apple\", \"banana\", \"orange\"}\n",
    "```"
   ]
  },
  {
   "cell_type": "markdown",
   "id": "23e18664",
   "metadata": {},
   "source": [
    "🔹 1. Creating a Set\n",
    "```python\n",
    "# here are two ways to create a set\n",
    "fruits = {\"apple\", \"banana\", \"cherry\"}\n",
    "mixed = set([1, 2, 2, 3, 4])  # duplicates auto-removed\n",
    "```"
   ]
  },
  {
   "cell_type": "markdown",
   "id": "215139c2",
   "metadata": {},
   "source": [
    "🔹 2. Set Methods\n",
    "\n",
    "```python\n",
    "s = {1, 2, 3}\n",
    "s.add(4)\n",
    "s.remove(2)\n",
    "s.discard(10)  # won’t crash if not found\n",
    "s.clear()      # empty the set\n",
    "```\n"
   ]
  },
  {
   "cell_type": "markdown",
   "id": "8e82df42",
   "metadata": {},
   "source": [
    "🔹 3. Set Operations\n",
    "\n",
    "```python\n",
    "a = {1, 2, 3}\n",
    "b = {3, 4, 5}\n",
    "\n",
    "print(a | b)   # union → {1, 2, 3, 4, 5}\n",
    "print(a & b)   # intersection → {3}\n",
    "print(a - b)   # difference → {1, 2}\n",
    "print(a ^ b)   # symmetric difference → {1, 2, 4, 5}\n",
    "```"
   ]
  },
  {
   "cell_type": "markdown",
   "id": "3c2b1117",
   "metadata": {},
   "source": [
    "🔹 4. Use Cases\n",
    "Removing duplicates from a list\n",
    "\n",
    "Fast membership testing: if x in set\n",
    "\n",
    "Comparing collections (e.g., tags, permissions)"
   ]
  },
  {
   "cell_type": "markdown",
   "id": "9ade06fb",
   "metadata": {},
   "source": [
    "🧠 Practice Task\n",
    "\n",
    "Do the following:\n",
    "\n",
    " - Create a set of 5 unique book titles.\n",
    "\n",
    " - Add a new book to the set.\n",
    "\n",
    " - Try to add a duplicate and observe what happens.\n",
    "\n",
    " - Remove a book using .remove().\n",
    "\n",
    "Perform a union and intersection with another set of books.\n",
    "\n",
    "Convert a list with duplicates into a set to get unique items.\n"
   ]
  },
  {
   "cell_type": "code",
   "execution_count": null,
   "id": "770b8245",
   "metadata": {},
   "outputs": [],
   "source": [
    "books = {\"1984\", \"To Kill a Mockingbird\", \"The Alchemist\", \"Sapiens\", \"The Great Gatsby\"}\n",
    "books.add(\"Art of the Deal\") # add book to the list\n",
    "books.add(\"Art of the Deal\") # adding a duplicate\n",
    "books.remove(\"1984\") # will remove a book called \"1984\"\n",
    "\n",
    "# another set containing books\n",
    "more_books = {\"Atomic Habits\", \"The Subtle Art of Not Giving a F*ck\", \"Deep Work\", \"Educated\", \"Thinking, Fast and Slow\"}\n",
    "\n",
    "# performing union\n",
    "print(books | more_books) # will join them into a single tuple \n",
    "\n",
    "# List with duplicates\n",
    "book_list = [\"The Power of Now\", \"Grit\", \"Can't Hurt Me\", \"Grit\", \"The 48 Laws of Power\", \"The Power of Now\"]\n",
    "\n",
    "# convert to set (removes duplicates then convert back to a list)\n",
    "book_list = set(book_list)\n",
    "\n",
    "print(book_list) # updated list now without duplicates"
   ]
  }
 ],
 "metadata": {
  "kernelspec": {
   "display_name": "Python 3",
   "language": "python",
   "name": "python3"
  },
  "language_info": {
   "codemirror_mode": {
    "name": "ipython",
    "version": 3
   },
   "file_extension": ".py",
   "mimetype": "text/x-python",
   "name": "python",
   "nbconvert_exporter": "python",
   "pygments_lexer": "ipython3",
   "version": "3.13.5"
  }
 },
 "nbformat": 4,
 "nbformat_minor": 5
}
