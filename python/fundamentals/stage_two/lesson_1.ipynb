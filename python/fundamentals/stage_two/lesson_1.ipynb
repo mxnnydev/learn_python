{
 "cells": [
  {
   "cell_type": "markdown",
   "id": "6ead8d86",
   "metadata": {},
   "source": [
    "🔹 Stage 2: Data Structures Mastery\n",
    "\n",
    "🎯 Goal: Build full control over Python’s core data structures — lists, tuples, sets, dictionaries — and combine them like a pro.\n"
   ]
  },
  {
   "cell_type": "markdown",
   "id": "a9f8fd57",
   "metadata": {},
   "source": [
    "## 🔹 Lesson 1: Python Lists\n",
    "🎯 Goal: Master list creation, access, mutation, slicing, and core methods."
   ]
  },
  {
   "cell_type": "markdown",
   "id": "5077303e",
   "metadata": {
    "vscode": {
     "languageId": "plaintext"
    }
   },
   "source": [
    "✅ What is a List?\n",
    "A list is an ordered, mutable collection of items.\n",
    "\n",
    "```python\n",
    "groceries = [\"milk\", \"bread\", \"eggs\"]\n",
    "```"
   ]
  },
  {
   "cell_type": "markdown",
   "id": "c6c4302b",
   "metadata": {},
   "source": [
    "🔹 1. Indexing & Access\n",
    "```python\n",
    "print(groceries[0])  # → \"milk\"\n",
    "print(groceries[-1])  # → \"eggs\" (last item)\n",
    "```"
   ]
  },
  {
   "cell_type": "markdown",
   "id": "f75f39b6",
   "metadata": {},
   "source": [
    "🔹 2. List Slicing\n",
    "```python\n",
    "print(groceries[1:3])  # → ['bread', 'eggs']\n",
    "print(groceries[:2])   # → ['milk', 'bread']\n",
    "print(groceries[::-1]) # → reversed list\n",
    "```\n"
   ]
  },
  {
   "cell_type": "markdown",
   "id": "9159f91b",
   "metadata": {},
   "source": [
    "🔹 3. Modifying Lists\n",
    "```python\n",
    "groceries[0] = \"almond milk\"\n",
    "groceries.append(\"butter\")        # Add to end\n",
    "groceries.insert(1, \"cheese\")     # Add at index\n",
    "groceries.remove(\"bread\")         # Remove by value\n",
    "last_item = groceries.pop()       # Remove and return last\n",
    "```"
   ]
  },
  {
   "cell_type": "markdown",
   "id": "efeeb3a0",
   "metadata": {},
   "source": [
    "🔹 4. List Methods\n",
    "\n",
    "```python\n",
    "numbers = [4, 2, 7, 1]\n",
    "numbers.sort()           # Sort ascending\n",
    "numbers.reverse()        # Reverse order\n",
    "print(len(numbers))      # Length\n",
    "print(7 in numbers)      # Check existence\n",
    "```"
   ]
  },
  {
   "cell_type": "markdown",
   "id": "e21e6592",
   "metadata": {},
   "source": [
    "🔹 5. Looping Through a List\n",
    "\n",
    "```python\n",
    "groceries = [\"milk\", \"bread\", \"eggs\"]\n",
    "\n",
    "for item in groceries:\n",
    "    print(f\"🛒 {item}\")\n",
    "```"
   ]
  },
  {
   "cell_type": "code",
   "execution_count": null,
   "id": "e15cd9ec",
   "metadata": {},
   "outputs": [
    {
     "name": "stdout",
     "output_type": "stream",
     "text": [
      "None\n",
      "True\n",
      "You should watch Whiplash!\n",
      "You should watch The Social Network!\n",
      "You should watch The Dark Knight!\n",
      "You should watch Shrek!\n",
      "You should watch Interstellar!\n",
      "You should watch Inception!\n"
     ]
    }
   ],
   "source": [
    "# 🧠 Practice Tasks:\n",
    "# Create a list of your top 5 favorite movies.\n",
    "# Print the first and last movie using indexing.\n",
    "# Add a new movie to the list.\n",
    "# Sort the list alphabetically.\n",
    "# Reverse the list and print it.\n",
    "# Check if \"Shrek\" is in your list.\n",
    "# Loop through and print: \"You should watch <movie>!\"\n",
    "\n",
    "# hold my favorite movies\n",
    "favorite_movies = [\"The Dark Knight\", \"Interstellar\", \"The Social Network\", \"Inception\", \"Whiplash\"]\n",
    "\n",
    "first_fav = favorite_movies[0] # first favorite movie\n",
    "\n",
    "last_fav = favorite_movies[-1] # last favorite movie\n",
    "\n",
    "# adding new movie to the list\n",
    "favorite_movies.append(\"Shrek\") \n",
    "\n",
    "# Sort the list alphabetically\n",
    "favorite_movies.sort()\n",
    "\n",
    "# Reverse the list and print it.\n",
    "print(favorite_movies.reverse())\n",
    "\n",
    "# Check if \"Shrek\" is in your list.\n",
    "print(\"Shrek\" in favorite_movies)\n",
    "\n",
    "# Loop through and print: \"You should watch <movie>!\"\n",
    "for favorite_movie in favorite_movies:\n",
    "    print(f\"You should watch {favorite_movie}!\")\n"
   ]
  }
 ],
 "metadata": {
  "kernelspec": {
   "display_name": "Python 3",
   "language": "python",
   "name": "python3"
  },
  "language_info": {
   "codemirror_mode": {
    "name": "ipython",
    "version": 3
   },
   "file_extension": ".py",
   "mimetype": "text/x-python",
   "name": "python",
   "nbconvert_exporter": "python",
   "pygments_lexer": "ipython3",
   "version": "3.13.5"
  }
 },
 "nbformat": 4,
 "nbformat_minor": 5
}
