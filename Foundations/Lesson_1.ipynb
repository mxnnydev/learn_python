{
 "cells": [
  {
   "cell_type": "markdown",
   "id": "f37bc979",
   "metadata": {},
   "source": [
    "✅ Lesson 1: Variables & Data Types (int, float, str, bool)\n",
    "\n",
    "🎯 GOAL:\n",
    "Understand how to store and identify values in Python."
   ]
  },
  {
   "cell_type": "markdown",
   "id": "55e31938",
   "metadata": {},
   "source": [
    "🧠 Core Concepts:\n",
    "\n",
    "✅ What is a variable?\n",
    "\n",
    "A variable is like a box where you store a value with a name."
   ]
  },
  {
   "cell_type": "code",
   "execution_count": 2,
   "id": "1485bc43",
   "metadata": {},
   "outputs": [],
   "source": [
    "age = 25\n",
    "name = \"Emmanuel\"\n",
    "height = 5.9\n",
    "is_student = True"
   ]
  },
  {
   "cell_type": "markdown",
   "id": "737f4da9",
   "metadata": {},
   "source": [
    "| Type    | Example         | Use Case                       |\n",
    "| ------- | --------------- | ------------------------------ |\n",
    "| `int`   | `5`, `1000`     | Whole numbers                  |\n",
    "| `float` | `5.6`, `3.14`   | Decimal numbers                |\n",
    "| `str`   | `\"Hello\"`       | Text or characters             |\n",
    "| `bool`  | `True`, `False` | Yes/No, On/Off, Is/Isn't logic |\n"
   ]
  },
  {
   "cell_type": "markdown",
   "id": "42505da5",
   "metadata": {},
   "source": [
    "🔍 Type Checking\n",
    "\n",
    "```python\n",
    "print(type(name))  # <class 'str'>\n",
    "print(type(age))   # <class 'int'>\n",
    "```"
   ]
  },
  {
   "cell_type": "markdown",
   "id": "20758cc2",
   "metadata": {},
   "source": [
    "💡 Naming Rules:\n",
    "\n",
    " - Must start with a letter or underscore _\n",
    "\n",
    " - Can include numbers and letters (age2, _score)\n",
    "\n",
    " - No special characters (!, @, etc.)\n",
    "\n",
    "✅ Good: user_name, is_active, score1\n",
    "❌ Bad: 1score, user-name, @age"
   ]
  },
  {
   "cell_type": "markdown",
   "id": "48eab5f9",
   "metadata": {},
   "source": [
    "🔁 Reassigning Values:\n",
    "\n",
    "```python\n",
    "score = 10\n",
    "score = score + 5\n",
    "print(score)  # Output: 15\n",
    "```\n"
   ]
  },
  {
   "cell_type": "markdown",
   "id": "d3e73ef1",
   "metadata": {},
   "source": [
    "🧪 Mini Challenge:\n",
    "```python\n",
    "# Create variables for your:\n",
    "# - Name (string)\n",
    "# - Age (int)\n",
    "# - Height in cm (float)\n",
    "# - Are you learning Python? (bool)\n",
    "\n",
    "# Then print them all with one print statement!\n",
    "```"
   ]
  },
  {
   "cell_type": "code",
   "execution_count": 4,
   "id": "27021619",
   "metadata": {},
   "outputs": [
    {
     "name": "stdout",
     "output_type": "stream",
     "text": [
      "Hello my name is Manny.\n",
      "My age is 25.\n",
      "My height in cm is 162.56\n",
      "Yes it's True. I am learning Python\n"
     ]
    }
   ],
   "source": [
    "Name = \"Manny\" # example of string\n",
    "age = 25 # example of int\n",
    "height_in_cm = 162.56 # example of float\n",
    "learning_python = True # # example of bool\n",
    "\n",
    "print(f\"Hello my name is {Name}.\\nMy age is {age}.\\nMy height in cm is {height_in_cm}\\nYes it's {learning_python}. I am learning Python\")"
   ]
  }
 ],
 "metadata": {
  "kernelspec": {
   "display_name": "Python 3",
   "language": "python",
   "name": "python3"
  },
  "language_info": {
   "codemirror_mode": {
    "name": "ipython",
    "version": 3
   },
   "file_extension": ".py",
   "mimetype": "text/x-python",
   "name": "python",
   "nbconvert_exporter": "python",
   "pygments_lexer": "ipython3",
   "version": "3.13.5"
  }
 },
 "nbformat": 4,
 "nbformat_minor": 5
}
