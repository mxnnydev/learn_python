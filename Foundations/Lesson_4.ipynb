{
 "cells": [
  {
   "cell_type": "markdown",
   "id": "7970173e",
   "metadata": {},
   "source": [
    "✅ Lesson 4: Conditionals (if, elif, else)\n",
    "\n",
    "🎯 GOAL:\n",
    "Make your programs react to different inputs and conditions."
   ]
  },
  {
   "cell_type": "markdown",
   "id": "9511b1f7",
   "metadata": {},
   "source": [
    "🧠 Basic Syntax:\n",
    "```python\n",
    "if condition:\n",
    "    # do something\n",
    "elif another_condition:\n",
    "    # do something else\n",
    "else:\n",
    "    # fallback if nothing matched\n",
    "```"
   ]
  },
  {
   "cell_type": "markdown",
   "id": "0353fdf3",
   "metadata": {},
   "source": [
    "### 🧪 Simple Example:\n",
    "\n",
    "```python\n",
    "age = 18\n",
    "\n",
    "if age >= 21:\n",
    "    print(\"You can drink.\")\n",
    "elif age >= 18:\n",
    "    print(\"You can vote.\")\n",
    "else:\n",
    "    print(\"You're too young.\")\n",
    "```\n"
   ]
  },
  {
   "cell_type": "markdown",
   "id": "089ade5b",
   "metadata": {},
   "source": [
    "⚠️ Indentation Matters\n",
    "\n",
    "Python uses indentation (spaces) to define blocks — don’t skip it:\n",
    "\n",
    "```python\n",
    "if True:\n",
    "    print(\"This runs\")  # ✅\n",
    "print(\"This is outside the if\")  # ✅\n",
    "```\n"
   ]
  },
  {
   "cell_type": "markdown",
   "id": "4763dc21",
   "metadata": {},
   "source": [
    "🧠 Relational + Logical\n",
    "You can use comparisons:\n",
    "\n",
    "```python\n",
    "\n",
    "temp = 30\n",
    "\n",
    "if temp > 35:\n",
    "    print(\"Too hot!\")\n",
    "elif temp < 10:\n",
    "    print(\"Too cold!\")\n",
    "else:\n",
    "    print(\"Just right.\")\n",
    "```\n",
    "\n",
    "And logical combos:\n",
    "\n",
    "```python\n",
    "user = \"admin\"\n",
    "password = \"123\"\n",
    "\n",
    "if user == \"admin\" and password == \"123\":\n",
    "    print(\"Access granted\")\n",
    "```"
   ]
  },
  {
   "cell_type": "markdown",
   "id": "ded42511",
   "metadata": {},
   "source": [
    "🧪 Mini Challenge:\n",
    "\n",
    "Write a program that:\n",
    "\n",
    "1. Asks the user to enter their test score (0–100).\n",
    "\n",
    "2. Prints a message based on this grading scale:\n",
    "\n",
    "    | Score Range | Grade |\n",
    "    | ----------- | ----- |\n",
    "    | 90–100      | A     |\n",
    "    | 80–89       | B     |\n",
    "    | 70–79       | C     |\n",
    "    | 60–69       | D     |\n",
    "    | Below 60    | F     |\n"
   ]
  },
  {
   "cell_type": "code",
   "execution_count": null,
   "id": "4121b829",
   "metadata": {},
   "outputs": [
    {
     "name": "stdout",
     "output_type": "stream",
     "text": [
      "Grade B: Good job!\n"
     ]
    }
   ],
   "source": [
    "# prompt user for test score\n",
    "test_score = input(\"Please enter you test score (MUST BE WHOLE NUMBER): \")\n",
    "\n",
    "# ensure digit value is entered as the input & handle negative numbers\n",
    "while not test_score.isdigit():\n",
    "    print(\"\\nInvalid input. Score must be a whole number.\")\n",
    "    test_score = input(\"\\nPlease enter you test score: \")\n",
    "\n",
    "# convert input to integer\n",
    "test_score = int(test_score)\n",
    "\n",
    "# determine letter grade based on score\n",
    "if test_score <= 100 and test_score >= 90:\n",
    "    grade =  'A'\n",
    "elif test_score <= 89 and test_score >= 80:\n",
    "    grade =  'B'\n",
    "elif test_score <= 79 and test_score >= 70:\n",
    "    grade =  'C'\n",
    "elif test_score <= 69 and test_score >= 60:\n",
    "    grade =  'D'\n",
    "else:\n",
    "    grade =  'F'\n",
    "\n",
    "match grade:\n",
    "    case \"A\":\n",
    "         print(\"Grade A: Excellent work!\")\n",
    "    case \"B\":\n",
    "         print(\"Grade B: Good job!\")\n",
    "    case \"C\":\n",
    "         print(\"Grade C: You passed.\")\n",
    "    case \"D\":\n",
    "         print(\"Grade D: You need to improve.\")\n",
    "    case \"F\":\n",
    "         print(\"Grade F: You failed. Better luck next time!\")\n",
    "        \n",
    "    \n"
   ]
  }
 ],
 "metadata": {
  "kernelspec": {
   "display_name": "Python 3",
   "language": "python",
   "name": "python3"
  },
  "language_info": {
   "codemirror_mode": {
    "name": "ipython",
    "version": 3
   },
   "file_extension": ".py",
   "mimetype": "text/x-python",
   "name": "python",
   "nbconvert_exporter": "python",
   "pygments_lexer": "ipython3",
   "version": "3.13.5"
  }
 },
 "nbformat": 4,
 "nbformat_minor": 5
}
