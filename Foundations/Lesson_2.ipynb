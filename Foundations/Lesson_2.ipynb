{
 "cells": [
  {
   "cell_type": "markdown",
   "id": "d5a609a8",
   "metadata": {},
   "source": [
    "✅ Lesson 2: Input/Output (input(), print())\n",
    "\n",
    "🎯 GOAL:\n",
    "Learn how to interact with users — get info from them and show it back."
   ]
  },
  {
   "cell_type": "markdown",
   "id": "adfb3121",
   "metadata": {},
   "source": [
    "🖨️ print() — Output to the screen\n",
    "It simply displays something.\n",
    "\n",
    "```python\n",
    "print(\"Hello world!\")  # Simple message\n",
    "print(5 + 3)            # Outputs 8\n",
    "```"
   ]
  },
  {
   "cell_type": "markdown",
   "id": "14bdf45b",
   "metadata": {},
   "source": [
    "You can also use multiple values:"
   ]
  },
  {
   "cell_type": "code",
   "execution_count": 4,
   "id": "662939bd",
   "metadata": {},
   "outputs": [
    {
     "name": "stdout",
     "output_type": "stream",
     "text": [
      "Hi Manny welcome to Python!\n"
     ]
    }
   ],
   "source": [
    "name = \"Manny\"\n",
    "print(\"Hi\", name, \"welcome to Python!\")  # Hi Manny welcome to Python!"
   ]
  },
  {
   "cell_type": "markdown",
   "id": "7f108333",
   "metadata": {},
   "source": [
    "Or use f-strings for cleaner formatting:"
   ]
  },
  {
   "cell_type": "code",
   "execution_count": 2,
   "id": "f3054deb",
   "metadata": {},
   "outputs": [
    {
     "name": "stdout",
     "output_type": "stream",
     "text": [
      "Hello Manny, welcome to Python!\n"
     ]
    }
   ],
   "source": [
    "print(f\"Hello {name}, welcome to Python!\")  # Hello Manny, welcome to Python!"
   ]
  },
  {
   "cell_type": "markdown",
   "id": "39a966c0",
   "metadata": {},
   "source": [
    "🎤 input() — Get data from the user\n",
    "\n",
    "This pauses the program and waits for you to type."
   ]
  },
  {
   "cell_type": "code",
   "execution_count": 3,
   "id": "f65aec27",
   "metadata": {},
   "outputs": [
    {
     "name": "stdout",
     "output_type": "stream",
     "text": [
      "Nice to meet you, Manny!\n"
     ]
    }
   ],
   "source": [
    "name = input(\"What's your name? \")\n",
    "print(f\"Nice to meet you, {name}!\")"
   ]
  },
  {
   "cell_type": "markdown",
   "id": "cf1698db",
   "metadata": {},
   "source": [
    "By default, input() returns a string, even if the user types numbers."
   ]
  },
  {
   "cell_type": "markdown",
   "id": "0c3a7f86",
   "metadata": {},
   "source": [
    "🔁 Converting Input to Numbers"
   ]
  },
  {
   "cell_type": "code",
   "execution_count": 6,
   "id": "4b8cc0c9",
   "metadata": {},
   "outputs": [
    {
     "name": "stdout",
     "output_type": "stream",
     "text": [
      "<class 'int'> <class 'float'>\n"
     ]
    }
   ],
   "source": [
    "age = int(input(\"Enter your age: \"))\n",
    "height = float(input(\"Enter your height in cm: \"))\n",
    "\n",
    "# checking date type\n",
    "print(type(age), type(height))"
   ]
  },
  {
   "cell_type": "markdown",
   "id": "1d13f83b",
   "metadata": {},
   "source": [
    "💡 Combine input + output:"
   ]
  },
  {
   "cell_type": "code",
   "execution_count": 7,
   "id": "91b7cb39",
   "metadata": {},
   "outputs": [
    {
     "name": "stdout",
     "output_type": "stream",
     "text": [
      "manny loves the color green!\n"
     ]
    }
   ],
   "source": [
    "name = input(\"Name: \")\n",
    "color = input(\"Favorite color: \")\n",
    "print(f\"{name} loves the color {color}!\")"
   ]
  },
  {
   "cell_type": "markdown",
   "id": "65541bc6",
   "metadata": {},
   "source": [
    "🧪 Mini Challenge:\n",
    "Write a short Python script that:\n",
    "    \n",
    "    1. Asks the user for their name, age, and city.\n",
    "\n",
    "    2. Prints a single formatted sentence like:\n",
    "| \"Hi Manny! You're 25 and you live in New York.\""
   ]
  },
  {
   "cell_type": "code",
   "execution_count": 10,
   "id": "49c7c6f5",
   "metadata": {},
   "outputs": [
    {
     "name": "stdout",
     "output_type": "stream",
     "text": [
      "Hi Manny! You're 25 and you live in New York \n"
     ]
    }
   ],
   "source": [
    "# collecting user infomation\n",
    "name = input(\"Enter your name: \")\n",
    "age = int(input(\"Enter your age: \"))\n",
    "city = input(\"Enter your city: \")\n",
    "\n",
    "# print message ~ contains infomation collected\n",
    "print(f\"Hi {name.capitalize()}! You're {age} and you live in {city.title()}.\")"
   ]
  }
 ],
 "metadata": {
  "kernelspec": {
   "display_name": "Python 3",
   "language": "python",
   "name": "python3"
  },
  "language_info": {
   "codemirror_mode": {
    "name": "ipython",
    "version": 3
   },
   "file_extension": ".py",
   "mimetype": "text/x-python",
   "name": "python",
   "nbconvert_exporter": "python",
   "pygments_lexer": "ipython3",
   "version": "3.13.5"
  }
 },
 "nbformat": 4,
 "nbformat_minor": 5
}
