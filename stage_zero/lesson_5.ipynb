{
 "cells": [
  {
   "cell_type": "markdown",
   "id": "cf3b2428",
   "metadata": {},
   "source": [
    "✅ Lesson 5: Loops (for, while, break, continue)\n",
    "\n",
    "\n",
    "🎯 GOAL:\n",
    "Repeat actions with control — loop through data, perform tasks multiple times, exit early if needed.\n"
   ]
  },
  {
   "cell_type": "markdown",
   "id": "946ef479",
   "metadata": {},
   "source": [
    "🔁 while Loop — Repeat while condition is True\n",
    "```python\n",
    "counter = 0\n",
    "\n",
    "while counter < 5:\n",
    "    print(\"Count:\", counter)\n",
    "    counter += 1\n",
    "```\n",
    "\n",
    "\n",
    "🧠 Keep looping until the condition becomes False."
   ]
  },
  {
   "cell_type": "markdown",
   "id": "2ec2f743",
   "metadata": {},
   "source": [
    "🔂 for Loop — Loop over a sequence (list, range, string, etc.)\n",
    "\n",
    "```python\n",
    "for num in range(5):  # 0, 1, 2, 3, 4\n",
    "    print(\"Number:\", num)\n",
    "```\n",
    "\n",
    "```python\n",
    "for letter in \"Manny\": # M, a, n, n, y\n",
    "    print(letter)\n",
    "```\n",
    "\n",
    "\n",
    "You can loop through:\n",
    "\n",
    " - range() (numbers)\n",
    "\n",
    " - lists: for item in [1, 2, 3]\n",
    "\n",
    " - strings: for char in \"text\"\n",
    "\n"
   ]
  },
  {
   "cell_type": "markdown",
   "id": "6e5c9c43",
   "metadata": {},
   "source": [
    "🛑 break — Exit the loop early\n",
    "\n",
    "```python\n",
    "for num in range(10):\n",
    "    if num == 5:\n",
    "        break  # stops the loop ~ will not run code below \n",
    "    print(num)\n",
    "```"
   ]
  },
  {
   "cell_type": "markdown",
   "id": "b7c97564",
   "metadata": {
    "vscode": {
     "languageId": "plaintext"
    }
   },
   "source": [
    "🔁 continue — Skip this round, move to next\n",
    "```python\n",
    "for num in range(5):\n",
    "    if num == 2:\n",
    "        continue  # skip this iteration\n",
    "    print(num)\n",
    "```"
   ]
  },
  {
   "cell_type": "markdown",
   "id": "7b2c6e55",
   "metadata": {},
   "source": [
    "🧪 Mini Challenge:\n",
    "Write a program that:\n",
    "\n",
    "- Asks the user to enter 5 numbers (using a for or while loop).\n",
    "\n",
    "- Add them all up.\n",
    "\n",
    "- If any number is negative, print \"Negative number detected. Skipping...\" and don’t add it.\n",
    "\n",
    "- After the loop, print the total sum of all valid numbers."
   ]
  },
  {
   "cell_type": "code",
   "execution_count": 6,
   "id": "3122686c",
   "metadata": {},
   "outputs": [
    {
     "name": "stdout",
     "output_type": "stream",
     "text": [
      "The total is: 30\n",
      "Total negative numbers skipped: 2\n"
     ]
    }
   ],
   "source": [
    "total = 0 # initial total\n",
    "negative_count = 0  # count of negative numbers\n",
    "\n",
    "for i in range(5):\n",
    "    num = int(input(\"Enter a number: \"))  # prompt user for input\n",
    "    # check if the number is negative\n",
    "    if num < 0:\n",
    "        negative_count += 1\n",
    "        continue  # skip to the next iteration if negative\n",
    "\n",
    "    total += num  # add the input number to the total\n",
    "print(\"The total is:\", total)  # print the final total\n",
    " \n",
    "# print the count of negative numbers\n",
    "print(\"Total negative numbers skipped:\", negative_count) "
   ]
  }
 ],
 "metadata": {
  "kernelspec": {
   "display_name": "Python 3",
   "language": "python",
   "name": "python3"
  },
  "language_info": {
   "codemirror_mode": {
    "name": "ipython",
    "version": 3
   },
   "file_extension": ".py",
   "mimetype": "text/x-python",
   "name": "python",
   "nbconvert_exporter": "python",
   "pygments_lexer": "ipython3",
   "version": "3.13.5"
  }
 },
 "nbformat": 4,
 "nbformat_minor": 5
}
